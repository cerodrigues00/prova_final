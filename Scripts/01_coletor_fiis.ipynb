{
 "cells": [
  {
   "cell_type": "markdown",
   "metadata": {},
   "source": [
    "## Aplicativo que coleta dados de fundos imobiliários na internet!"
   ]
  },
  {
   "cell_type": "markdown",
   "metadata": {},
   "source": [
    "### Coletando arquivo .csv do site da b3"
   ]
  },
  {
   "cell_type": "markdown",
   "metadata": {},
   "source": [
    "Importanto das bibliotecas necessárias"
   ]
  },
  {
   "cell_type": "code",
   "execution_count": 25,
   "metadata": {},
   "outputs": [],
   "source": [
    "from selenium import webdriver\n",
    "from selenium.webdriver.common.by import By\n",
    "from selenium.webdriver.support.ui import WebDriverWait\n",
    "from selenium.webdriver.support import expected_conditions as EC\n",
    "from selenium.webdriver.chrome.options import Options\n",
    "import matplotlib.pyplot as plt\n",
    "import time\n",
    "import os\n",
    "from sqlalchemy import create_engine \n"
   ]
  },
  {
   "cell_type": "markdown",
   "metadata": {},
   "source": [
    "Definindo o caminho da pasta que o download vai o nome do arquivo que será salvo"
   ]
  },
  {
   "cell_type": "code",
   "execution_count": 2,
   "metadata": {},
   "outputs": [],
   "source": [
    "base_dir = os.getcwd()\n",
    "download_dir = os.path.join(base_dir, \"../bases_originais\")"
   ]
  },
  {
   "cell_type": "markdown",
   "metadata": {},
   "source": [
    "Verificando se já existe um arquivo com o nome que iremos baixar na pasta, se tiver, excluir"
   ]
  },
  {
   "cell_type": "code",
   "execution_count": 3,
   "metadata": {},
   "outputs": [
    {
     "name": "stdout",
     "output_type": "stream",
     "text": [
      "c:\\Users\\enzot\\OneDrive\\Documentos\\Dev\\Impacta\\Web Data App\\AP1\\Scripts\\../bases_originais\\statusinvest-busca-avancada.csv\n"
     ]
    }
   ],
   "source": [
    "if not os.path.exists(download_dir):\n",
    "    os.makedirs(download_dir)\n",
    "\n",
    "download_archive_name = os.path.join(download_dir, \"statusinvest-busca-avancada.csv\")\n",
    "\n",
    "if os.path.exists(download_archive_name):\n",
    "    os.remove(download_archive_name)\n",
    "print(download_archive_name)\n"
   ]
  },
  {
   "cell_type": "markdown",
   "metadata": {},
   "source": [
    "Configurando as opções do navegador google chrome"
   ]
  },
  {
   "cell_type": "code",
   "execution_count": 4,
   "metadata": {},
   "outputs": [],
   "source": [
    "# Configurando as opções do Chrome\n",
    "chrome_options = Options()\n",
    "# Configurando as preferências para definir a pasta de download\n",
    "prefs = {\n",
    "    \"download.default_directory\": os.path.abspath(download_dir),  # Diretório de download\n",
    "    \"download.prompt_for_download\": False,       # Não perguntar onde salvar o arquivo\n",
    "    \"directory_upgrade\": True,                   # Atualizar o diretório de download, se necessário\n",
    "    \"safebrowsing.enabled\": True,                # Ignorar avisos de arquivos inseguros        \n",
    "}\n",
    "chrome_options.add_experimental_option(\"prefs\", prefs)"
   ]
  },
  {
   "cell_type": "markdown",
   "metadata": {},
   "source": [
    "Abrir chrome com as configurações selecionadas"
   ]
  },
  {
   "cell_type": "code",
   "execution_count": 5,
   "metadata": {},
   "outputs": [],
   "source": [
    "navegador = webdriver.Chrome(options=chrome_options)"
   ]
  },
  {
   "cell_type": "markdown",
   "metadata": {},
   "source": [
    "Abrir o site da b3"
   ]
  },
  {
   "cell_type": "code",
   "execution_count": 6,
   "metadata": {},
   "outputs": [],
   "source": [
    "navegador.get(\"https://statusinvest.com.br/fundos-imobiliarios/busca-avancada\")"
   ]
  },
  {
   "cell_type": "markdown",
   "metadata": {},
   "source": [
    "Baixar o arquivo CSV (já salvando no caminho escolhido anteriormente)"
   ]
  },
  {
   "cell_type": "code",
   "execution_count": 7,
   "metadata": {},
   "outputs": [],
   "source": [
    "navegador.find_element(By.XPATH, '/html/body/main/div[3]/div/div/div/button[2]').click()\n"
   ]
  },
  {
   "cell_type": "code",
   "execution_count": 8,
   "metadata": {},
   "outputs": [
    {
     "name": "stdout",
     "output_type": "stream",
     "text": [
      "Não apareceu propaganda\n"
     ]
    }
   ],
   "source": [
    "try:\n",
    "    time.sleep(5)\n",
    "    navegador.find_element(By.XPATH, '/html/body/div[20]/div/div/div[1]/button/i').click()\n",
    "except:\n",
    "    print('Não apareceu propaganda')"
   ]
  },
  {
   "cell_type": "code",
   "execution_count": 9,
   "metadata": {},
   "outputs": [],
   "source": [
    "navegador.find_element(By.XPATH, '/html/body/main/div[4]/div/div[1]/div[2]/a/span').click()"
   ]
  },
  {
   "cell_type": "code",
   "execution_count": 10,
   "metadata": {},
   "outputs": [],
   "source": [
    "navegador.get(\"https://statusinvest.com.br/indices\")"
   ]
  },
  {
   "cell_type": "code",
   "execution_count": 11,
   "metadata": {},
   "outputs": [],
   "source": [
    "cdi = navegador.find_element(By.XPATH, '/html/body/main/div[2]/div/div/div/table/tbody/tr[4]/td[2]').text\n",
    "ifixS = navegador.find_element(By.XPATH, '/html/body/main/div[4]/div/div/div/table/tbody/tr[2]/td[2]/div/span').text"
   ]
  },
  {
   "cell_type": "markdown",
   "metadata": {},
   "source": [
    "### Criando dataframe com o arquivo csv\n",
    "Importando bibliotecas"
   ]
  },
  {
   "cell_type": "code",
   "execution_count": 12,
   "metadata": {},
   "outputs": [],
   "source": [
    "import pandas as pd\n",
    "import numpy as np"
   ]
  },
  {
   "cell_type": "markdown",
   "metadata": {},
   "source": [
    "Lendo o csv, separado por ; usando o encoding latin1(diferente do utf-8), ignorando a primeira linha (cabeçalho que estava com configurações diferentes do padrão do documento csv)"
   ]
  },
  {
   "cell_type": "code",
   "execution_count": 13,
   "metadata": {},
   "outputs": [
    {
     "data": {
      "text/html": [
       "<div>\n",
       "<style scoped>\n",
       "    .dataframe tbody tr th:only-of-type {\n",
       "        vertical-align: middle;\n",
       "    }\n",
       "\n",
       "    .dataframe tbody tr th {\n",
       "        vertical-align: top;\n",
       "    }\n",
       "\n",
       "    .dataframe thead th {\n",
       "        text-align: right;\n",
       "    }\n",
       "</style>\n",
       "<table border=\"1\" class=\"dataframe\">\n",
       "  <thead>\n",
       "    <tr style=\"text-align: right;\">\n",
       "      <th></th>\n",
       "      <th>TICKER</th>\n",
       "      <th>PRECO</th>\n",
       "      <th>ULTIMO DIVIDENDO</th>\n",
       "      <th>DY</th>\n",
       "      <th>VALOR PATRIMONIAL COTA</th>\n",
       "      <th>P/VP</th>\n",
       "      <th>LIQUIDEZ MEDIA DIARIA</th>\n",
       "      <th>PERCENTUAL EM CAIXA</th>\n",
       "      <th>CAGR DIVIDENDOS 3 ANOS</th>\n",
       "      <th>CAGR VALOR CORA 3 ANOS</th>\n",
       "      <th>PATRIMONIO</th>\n",
       "      <th>N COTISTAS</th>\n",
       "      <th>GESTAO</th>\n",
       "      <th>N COTAS</th>\n",
       "    </tr>\n",
       "  </thead>\n",
       "  <tbody>\n",
       "    <tr>\n",
       "      <th>0</th>\n",
       "      <td>ABCP11</td>\n",
       "      <td>77,64</td>\n",
       "      <td>0,700000</td>\n",
       "      <td>9,02</td>\n",
       "      <td>106,92</td>\n",
       "      <td>0,73</td>\n",
       "      <td>56.281,57</td>\n",
       "      <td>1,83</td>\n",
       "      <td>1,47</td>\n",
       "      <td>8,44</td>\n",
       "      <td>503.496.718,25</td>\n",
       "      <td>15.558,00</td>\n",
       "      <td>Passiva</td>\n",
       "      <td>4.709.082,00</td>\n",
       "    </tr>\n",
       "    <tr>\n",
       "      <th>1</th>\n",
       "      <td>AFHI11</td>\n",
       "      <td>93,61</td>\n",
       "      <td>0,930000</td>\n",
       "      <td>12,22</td>\n",
       "      <td>94,88</td>\n",
       "      <td>0,99</td>\n",
       "      <td>1.116.628,33</td>\n",
       "      <td>4,69</td>\n",
       "      <td>-8,71</td>\n",
       "      <td>0,06</td>\n",
       "      <td>432.224.228,96</td>\n",
       "      <td>42.539,00</td>\n",
       "      <td>Ativa</td>\n",
       "      <td>4.555.618,00</td>\n",
       "    </tr>\n",
       "    <tr>\n",
       "      <th>2</th>\n",
       "      <td>AIEC11</td>\n",
       "      <td>42,50</td>\n",
       "      <td>0,620000</td>\n",
       "      <td>20,42</td>\n",
       "      <td>84,94</td>\n",
       "      <td>0,50</td>\n",
       "      <td>649.174,57</td>\n",
       "      <td>4,35</td>\n",
       "      <td>-1,13</td>\n",
       "      <td>-13,75</td>\n",
       "      <td>409.856.001,38</td>\n",
       "      <td>18.874,00</td>\n",
       "      <td>Ativa</td>\n",
       "      <td>4.824.987,00</td>\n",
       "    </tr>\n",
       "    <tr>\n",
       "      <th>3</th>\n",
       "      <td>AJFI11</td>\n",
       "      <td>7,27</td>\n",
       "      <td>0,070000</td>\n",
       "      <td>11,58</td>\n",
       "      <td>12,25</td>\n",
       "      <td>0,59</td>\n",
       "      <td>469.095,52</td>\n",
       "      <td>5,40</td>\n",
       "      <td>NaN</td>\n",
       "      <td>NaN</td>\n",
       "      <td>387.514.867,40</td>\n",
       "      <td>13.191,00</td>\n",
       "      <td>Ativa</td>\n",
       "      <td>31.625.978,00</td>\n",
       "    </tr>\n",
       "    <tr>\n",
       "      <th>4</th>\n",
       "      <td>ALMI11</td>\n",
       "      <td>575,00</td>\n",
       "      <td>5,000000</td>\n",
       "      <td>2,48</td>\n",
       "      <td>2.172,28</td>\n",
       "      <td>0,26</td>\n",
       "      <td>23.137,29</td>\n",
       "      <td>4,28</td>\n",
       "      <td>NaN</td>\n",
       "      <td>-16,87</td>\n",
       "      <td>241.507.669,88</td>\n",
       "      <td>2.092,00</td>\n",
       "      <td>Passiva</td>\n",
       "      <td>111.177,00</td>\n",
       "    </tr>\n",
       "  </tbody>\n",
       "</table>\n",
       "</div>"
      ],
      "text/plain": [
       "   TICKER   PRECO ULTIMO DIVIDENDO     DY VALOR PATRIMONIAL COTA  P/VP  \\\n",
       "0  ABCP11   77,64         0,700000   9,02                 106,92  0,73   \n",
       "1  AFHI11   93,61         0,930000  12,22                  94,88  0,99   \n",
       "2  AIEC11   42,50         0,620000  20,42                  84,94  0,50   \n",
       "3  AJFI11    7,27         0,070000  11,58                  12,25  0,59   \n",
       "4  ALMI11  575,00         5,000000   2,48               2.172,28  0,26   \n",
       "\n",
       "  LIQUIDEZ MEDIA DIARIA PERCENTUAL EM CAIXA CAGR DIVIDENDOS 3 ANOS  \\\n",
       "0             56.281,57                1,83                   1,47   \n",
       "1          1.116.628,33                4,69                  -8,71   \n",
       "2            649.174,57                4,35                  -1,13   \n",
       "3            469.095,52                5,40                    NaN   \n",
       "4             23.137,29                4,28                    NaN   \n",
       "\n",
       "   CAGR VALOR CORA 3 ANOS      PATRIMONIO N COTISTAS   GESTAO        N COTAS  \n",
       "0                    8,44  503.496.718,25  15.558,00  Passiva   4.709.082,00  \n",
       "1                    0,06  432.224.228,96  42.539,00    Ativa   4.555.618,00  \n",
       "2                  -13,75  409.856.001,38  18.874,00    Ativa   4.824.987,00  \n",
       "3                     NaN  387.514.867,40  13.191,00    Ativa  31.625.978,00  \n",
       "4                  -16,87  241.507.669,88   2.092,00  Passiva     111.177,00  "
      ]
     },
     "execution_count": 13,
     "metadata": {},
     "output_type": "execute_result"
    }
   ],
   "source": [
    "if os.path.exists(download_archive_name):\n",
    "    df = pd.read_csv('../bases_originais/statusinvest-busca-avancada.csv', sep=\";\",)\n",
    "else:\n",
    "   time.sleep(5)\n",
    "   df = pd.read_csv('../bases_originais/statusinvest-busca-avancada.csv', sep=\";\")\n",
    "df.head()"
   ]
  },
  {
   "cell_type": "markdown",
   "metadata": {},
   "source": [
    "## Tratando a base"
   ]
  },
  {
   "cell_type": "code",
   "execution_count": 14,
   "metadata": {},
   "outputs": [],
   "source": [
    "import matplotlib.pyplot as plt"
   ]
  },
  {
   "cell_type": "code",
   "execution_count": 15,
   "metadata": {},
   "outputs": [],
   "source": [
    "dfnovo = df"
   ]
  },
  {
   "cell_type": "code",
   "execution_count": 16,
   "metadata": {},
   "outputs": [],
   "source": [
    "dfnovo['PRECO'] = df['PRECO'].astype(str).str.replace('.', '').str.replace(',', '.').astype(float)\n",
    "dfnovo['ULTIMO DIVIDENDO'] = df['ULTIMO DIVIDENDO'].astype(str).str.replace('.', '').str.replace(',', '.').astype(float)\n",
    "dfnovo['DY'] = df['DY'].astype(str).str.replace('.', '').str.replace(',', '.').astype(float)\n",
    "dfnovo['VALOR PATRIMONIAL COTA'] = df['VALOR PATRIMONIAL COTA'].astype(str).str.replace('.', '').str.replace(',', '.').astype(float)\n",
    "dfnovo['P/VP'] = df['P/VP'].astype(str).str.replace('.', '').str.replace(',', '.').astype(float)\n",
    "dfnovo['LIQUIDEZ MEDIA DIARIA'] = df['LIQUIDEZ MEDIA DIARIA'].astype(str).str.replace('.', '').str.replace(',', '.').astype(float)\n",
    "dfnovo['PERCENTUAL EM CAIXA'] = df['PERCENTUAL EM CAIXA'].astype(str).str.replace('.', '').str.replace(',', '.').astype(float)\n",
    "dfnovo['CAGR DIVIDENDOS 3 ANOS'] = df['CAGR DIVIDENDOS 3 ANOS'].astype(str).str.replace('.', '').str.replace(',', '.').astype(float)\n",
    "dfnovo[' CAGR VALOR CORA 3 ANOS'] = df[' CAGR VALOR CORA 3 ANOS'].astype(str).str.replace('.', '').str.replace(',', '.').astype(float)\n",
    "dfnovo['PATRIMONIO'] = df['PATRIMONIO'].astype(str).str.replace('.', '').str.replace(',', '.').astype(float)\n",
    "dfnovo['N COTISTAS'] = df['N COTISTAS'].astype(str).str.replace('.', '').str.replace(',', '.').astype(float)\n",
    "dfnovo[' N COTAS'] = df[' N COTAS'].astype(str).str.replace('.', '').str.replace(',', '.').astype(float)\n"
   ]
  },
  {
   "cell_type": "code",
   "execution_count": 17,
   "metadata": {},
   "outputs": [
    {
     "data": {
      "text/html": [
       "<div>\n",
       "<style scoped>\n",
       "    .dataframe tbody tr th:only-of-type {\n",
       "        vertical-align: middle;\n",
       "    }\n",
       "\n",
       "    .dataframe tbody tr th {\n",
       "        vertical-align: top;\n",
       "    }\n",
       "\n",
       "    .dataframe thead th {\n",
       "        text-align: right;\n",
       "    }\n",
       "</style>\n",
       "<table border=\"1\" class=\"dataframe\">\n",
       "  <thead>\n",
       "    <tr style=\"text-align: right;\">\n",
       "      <th></th>\n",
       "      <th>TICKER</th>\n",
       "      <th>PRECO</th>\n",
       "      <th>ULTIMO DIVIDENDO</th>\n",
       "      <th>DY</th>\n",
       "      <th>VALOR PATRIMONIAL COTA</th>\n",
       "      <th>P/VP</th>\n",
       "      <th>LIQUIDEZ MEDIA DIARIA</th>\n",
       "      <th>PERCENTUAL EM CAIXA</th>\n",
       "      <th>CAGR DIVIDENDOS 3 ANOS</th>\n",
       "      <th>CAGR VALOR CORA 3 ANOS</th>\n",
       "      <th>PATRIMONIO</th>\n",
       "      <th>N COTISTAS</th>\n",
       "      <th>GESTAO</th>\n",
       "      <th>N COTAS</th>\n",
       "    </tr>\n",
       "  </thead>\n",
       "  <tbody>\n",
       "    <tr>\n",
       "      <th>0</th>\n",
       "      <td>ABCP11</td>\n",
       "      <td>77.64</td>\n",
       "      <td>0.70</td>\n",
       "      <td>9.02</td>\n",
       "      <td>106.92</td>\n",
       "      <td>0.73</td>\n",
       "      <td>56281.57</td>\n",
       "      <td>1.83</td>\n",
       "      <td>1.47</td>\n",
       "      <td>8.44</td>\n",
       "      <td>5.034967e+08</td>\n",
       "      <td>15558.0</td>\n",
       "      <td>Passiva</td>\n",
       "      <td>4709082.0</td>\n",
       "    </tr>\n",
       "    <tr>\n",
       "      <th>1</th>\n",
       "      <td>AFHI11</td>\n",
       "      <td>93.61</td>\n",
       "      <td>0.93</td>\n",
       "      <td>12.22</td>\n",
       "      <td>94.88</td>\n",
       "      <td>0.99</td>\n",
       "      <td>1116628.33</td>\n",
       "      <td>4.69</td>\n",
       "      <td>-8.71</td>\n",
       "      <td>0.06</td>\n",
       "      <td>4.322242e+08</td>\n",
       "      <td>42539.0</td>\n",
       "      <td>Ativa</td>\n",
       "      <td>4555618.0</td>\n",
       "    </tr>\n",
       "    <tr>\n",
       "      <th>2</th>\n",
       "      <td>AIEC11</td>\n",
       "      <td>42.50</td>\n",
       "      <td>0.62</td>\n",
       "      <td>20.42</td>\n",
       "      <td>84.94</td>\n",
       "      <td>0.50</td>\n",
       "      <td>649174.57</td>\n",
       "      <td>4.35</td>\n",
       "      <td>-1.13</td>\n",
       "      <td>-13.75</td>\n",
       "      <td>4.098560e+08</td>\n",
       "      <td>18874.0</td>\n",
       "      <td>Ativa</td>\n",
       "      <td>4824987.0</td>\n",
       "    </tr>\n",
       "    <tr>\n",
       "      <th>3</th>\n",
       "      <td>AJFI11</td>\n",
       "      <td>7.27</td>\n",
       "      <td>0.07</td>\n",
       "      <td>11.58</td>\n",
       "      <td>12.25</td>\n",
       "      <td>0.59</td>\n",
       "      <td>469095.52</td>\n",
       "      <td>5.40</td>\n",
       "      <td>NaN</td>\n",
       "      <td>NaN</td>\n",
       "      <td>3.875149e+08</td>\n",
       "      <td>13191.0</td>\n",
       "      <td>Ativa</td>\n",
       "      <td>31625978.0</td>\n",
       "    </tr>\n",
       "    <tr>\n",
       "      <th>4</th>\n",
       "      <td>ALMI11</td>\n",
       "      <td>575.00</td>\n",
       "      <td>5.00</td>\n",
       "      <td>2.48</td>\n",
       "      <td>2172.28</td>\n",
       "      <td>0.26</td>\n",
       "      <td>23137.29</td>\n",
       "      <td>4.28</td>\n",
       "      <td>NaN</td>\n",
       "      <td>-16.87</td>\n",
       "      <td>2.415077e+08</td>\n",
       "      <td>2092.0</td>\n",
       "      <td>Passiva</td>\n",
       "      <td>111177.0</td>\n",
       "    </tr>\n",
       "  </tbody>\n",
       "</table>\n",
       "</div>"
      ],
      "text/plain": [
       "   TICKER   PRECO  ULTIMO DIVIDENDO     DY  VALOR PATRIMONIAL COTA  P/VP  \\\n",
       "0  ABCP11   77.64              0.70   9.02                  106.92  0.73   \n",
       "1  AFHI11   93.61              0.93  12.22                   94.88  0.99   \n",
       "2  AIEC11   42.50              0.62  20.42                   84.94  0.50   \n",
       "3  AJFI11    7.27              0.07  11.58                   12.25  0.59   \n",
       "4  ALMI11  575.00              5.00   2.48                 2172.28  0.26   \n",
       "\n",
       "   LIQUIDEZ MEDIA DIARIA  PERCENTUAL EM CAIXA  CAGR DIVIDENDOS 3 ANOS  \\\n",
       "0               56281.57                 1.83                    1.47   \n",
       "1             1116628.33                 4.69                   -8.71   \n",
       "2              649174.57                 4.35                   -1.13   \n",
       "3              469095.52                 5.40                     NaN   \n",
       "4               23137.29                 4.28                     NaN   \n",
       "\n",
       "    CAGR VALOR CORA 3 ANOS    PATRIMONIO  N COTISTAS   GESTAO     N COTAS  \n",
       "0                     8.44  5.034967e+08     15558.0  Passiva   4709082.0  \n",
       "1                     0.06  4.322242e+08     42539.0    Ativa   4555618.0  \n",
       "2                   -13.75  4.098560e+08     18874.0    Ativa   4824987.0  \n",
       "3                      NaN  3.875149e+08     13191.0    Ativa  31625978.0  \n",
       "4                   -16.87  2.415077e+08      2092.0  Passiva    111177.0  "
      ]
     },
     "execution_count": 17,
     "metadata": {},
     "output_type": "execute_result"
    }
   ],
   "source": [
    "dfnovo.head()"
   ]
  },
  {
   "cell_type": "code",
   "execution_count": 18,
   "metadata": {},
   "outputs": [
    {
     "data": {
      "image/png": "[encoded data removed]",
      "text/plain": [
       "<Figure size 800x600 with 1 Axes>"
      ]
     },
     "metadata": {},
     "output_type": "display_data"
    }
   ],
   "source": [
    "plt.figure(figsize=(8, 6))\n",
    "dfnovo.boxplot(column=['DY'])\n",
    "plt.title(\"Boxplot com Outliers\")\n",
    "plt.show()\n"
   ]
  },
  {
   "cell_type": "code",
   "execution_count": null,
   "metadata": {},
   "outputs": [
    {
     "data": {
      "text/html": [
       "<div>\n",
       "<style scoped>\n",
       "    .dataframe tbody tr th:only-of-type {\n",
       "        vertical-align: middle;\n",
       "    }\n",
       "\n",
       "    .dataframe tbody tr th {\n",
       "        vertical-align: top;\n",
       "    }\n",
       "\n",
       "    .dataframe thead th {\n",
       "        text-align: right;\n",
       "    }\n",
       "</style>\n",
       "<table border=\"1\" class=\"dataframe\">\n",
       "  <thead>\n",
       "    <tr style=\"text-align: right;\">\n",
       "      <th></th>\n",
       "      <th>TICKER</th>\n",
       "      <th>PRECO</th>\n",
       "      <th>ULTDIV</th>\n",
       "      <th>DY</th>\n",
       "      <th>VPC</th>\n",
       "      <th>PVP</th>\n",
       "      <th>LIQD</th>\n",
       "      <th>CAIXA</th>\n",
       "      <th>CAGRDIV</th>\n",
       "      <th>CAGRVLR</th>\n",
       "      <th>PATRIMONIO</th>\n",
       "      <th>NCOTISTAS</th>\n",
       "      <th>GESTAO</th>\n",
       "      <th>NCOTA</th>\n",
       "    </tr>\n",
       "  </thead>\n",
       "  <tbody>\n",
       "    <tr>\n",
       "      <th>0</th>\n",
       "      <td>ABCP11</td>\n",
       "      <td>77.64</td>\n",
       "      <td>0.70</td>\n",
       "      <td>9.02</td>\n",
       "      <td>106.92</td>\n",
       "      <td>0.73</td>\n",
       "      <td>56281.57</td>\n",
       "      <td>1.83</td>\n",
       "      <td>1.47</td>\n",
       "      <td>8.44</td>\n",
       "      <td>5.034967e+08</td>\n",
       "      <td>15558.0</td>\n",
       "      <td>Passiva</td>\n",
       "      <td>4709082.0</td>\n",
       "    </tr>\n",
       "    <tr>\n",
       "      <th>1</th>\n",
       "      <td>AFHI11</td>\n",
       "      <td>93.61</td>\n",
       "      <td>0.93</td>\n",
       "      <td>12.22</td>\n",
       "      <td>94.88</td>\n",
       "      <td>0.99</td>\n",
       "      <td>1116628.33</td>\n",
       "      <td>4.69</td>\n",
       "      <td>-8.71</td>\n",
       "      <td>0.06</td>\n",
       "      <td>4.322242e+08</td>\n",
       "      <td>42539.0</td>\n",
       "      <td>Ativa</td>\n",
       "      <td>4555618.0</td>\n",
       "    </tr>\n",
       "    <tr>\n",
       "      <th>2</th>\n",
       "      <td>AIEC11</td>\n",
       "      <td>42.50</td>\n",
       "      <td>0.62</td>\n",
       "      <td>20.42</td>\n",
       "      <td>84.94</td>\n",
       "      <td>0.50</td>\n",
       "      <td>649174.57</td>\n",
       "      <td>4.35</td>\n",
       "      <td>-1.13</td>\n",
       "      <td>-13.75</td>\n",
       "      <td>4.098560e+08</td>\n",
       "      <td>18874.0</td>\n",
       "      <td>Ativa</td>\n",
       "      <td>4824987.0</td>\n",
       "    </tr>\n",
       "    <tr>\n",
       "      <th>3</th>\n",
       "      <td>AJFI11</td>\n",
       "      <td>7.27</td>\n",
       "      <td>0.07</td>\n",
       "      <td>11.58</td>\n",
       "      <td>12.25</td>\n",
       "      <td>0.59</td>\n",
       "      <td>469095.52</td>\n",
       "      <td>5.40</td>\n",
       "      <td>NaN</td>\n",
       "      <td>NaN</td>\n",
       "      <td>3.875149e+08</td>\n",
       "      <td>13191.0</td>\n",
       "      <td>Ativa</td>\n",
       "      <td>31625978.0</td>\n",
       "    </tr>\n",
       "    <tr>\n",
       "      <th>4</th>\n",
       "      <td>ALMI11</td>\n",
       "      <td>575.00</td>\n",
       "      <td>5.00</td>\n",
       "      <td>2.48</td>\n",
       "      <td>2172.28</td>\n",
       "      <td>0.26</td>\n",
       "      <td>23137.29</td>\n",
       "      <td>4.28</td>\n",
       "      <td>NaN</td>\n",
       "      <td>-16.87</td>\n",
       "      <td>2.415077e+08</td>\n",
       "      <td>2092.0</td>\n",
       "      <td>Passiva</td>\n",
       "      <td>111177.0</td>\n",
       "    </tr>\n",
       "  </tbody>\n",
       "</table>\n",
       "</div>"
      ],
      "text/plain": [
       "   TICKER   PRECO  ULTDIV     DY      VPC   PVP        LIQD  CAIXA  CAGRDIV  \\\n",
       "0  ABCP11   77.64    0.70   9.02   106.92  0.73    56281.57   1.83     1.47   \n",
       "1  AFHI11   93.61    0.93  12.22    94.88  0.99  1116628.33   4.69    -8.71   \n",
       "2  AIEC11   42.50    0.62  20.42    84.94  0.50   649174.57   4.35    -1.13   \n",
       "3  AJFI11    7.27    0.07  11.58    12.25  0.59   469095.52   5.40      NaN   \n",
       "4  ALMI11  575.00    5.00   2.48  2172.28  0.26    23137.29   4.28      NaN   \n",
       "\n",
       "   CAGRVLR    PATRIMONIO  NCOTISTAS   GESTAO       NCOTA  \n",
       "0     8.44  5.034967e+08    15558.0  Passiva   4709082.0  \n",
       "1     0.06  4.322242e+08    42539.0    Ativa   4555618.0  \n",
       "2   -13.75  4.098560e+08    18874.0    Ativa   4824987.0  \n",
       "3      NaN  3.875149e+08    13191.0    Ativa  31625978.0  \n",
       "4   -16.87  2.415077e+08     2092.0  Passiva    111177.0  "
      ]
     },
     "execution_count": 20,
     "metadata": {},
     "output_type": "execute_result"
    }
   ],
   "source": [
    "dfnovo.rename(columns={\"P/VP\": \"PVP\", \"N COTISTAS\": \"NCOTISTAS\", \n",
    "                   \"CAGR DIVIDENDOS 3 ANOS\": \"CAGRDIV\", \n",
    "                   \"LIQUIDEZ MEDIA DIARIA\": \"LIQD\",\n",
    "                   \"ULTIMO DIVIDENDO\": \"ULTDIV\", 'VALOR PATRIMONIAL COTA': 'VPC',' CAGR VALOR CORA 3 ANOS': 'CAGRVLR', 'PERCENTUAL EM CAIXA': 'CAIXA', ' N COTAS': 'NCOTA'}, inplace=True)\n"
   ]
  },
  {
   "cell_type": "code",
   "execution_count": 28,
   "metadata": {},
   "outputs": [
    {
     "name": "stdout",
     "output_type": "stream",
     "text": [
      "2024-11-21 18:56:14,972 INFO sqlalchemy.engine.Engine BEGIN (implicit)\n",
      "2024-11-21 18:56:14,980 INFO sqlalchemy.engine.Engine PRAGMA main.table_info(\"fiis\")\n",
      "2024-11-21 18:56:14,980 INFO sqlalchemy.engine.Engine [raw sql] ()\n",
      "2024-11-21 18:56:14,984 INFO sqlalchemy.engine.Engine PRAGMA temp.table_info(\"fiis\")\n",
      "2024-11-21 18:56:14,985 INFO sqlalchemy.engine.Engine [raw sql] ()\n",
      "2024-11-21 18:56:14,989 INFO sqlalchemy.engine.Engine \n",
      "CREATE TABLE fiis (\n",
      "\t\"TICKER\" TEXT, \n",
      "\t\"PRECO\" FLOAT, \n",
      "\t\"ULTDIV\" FLOAT, \n",
      "\t\"DY\" FLOAT, \n",
      "\t\"VPC\" FLOAT, \n",
      "\t\"PVP\" FLOAT, \n",
      "\t\"LIQD\" FLOAT, \n",
      "\t\"CAIXA\" FLOAT, \n",
      "\t\"CAGRDIV\" FLOAT, \n",
      "\t\"CAGRVLR\" FLOAT, \n",
      "\t\"PATRIMONIO\" FLOAT, \n",
      "\t\"NCOTISTAS\" FLOAT, \n",
      "\t\"GESTAO\" TEXT, \n",
      "\t\"NCOTA\" FLOAT\n",
      ")\n",
      "\n",
      "\n",
      "2024-11-21 18:56:14,990 INFO sqlalchemy.engine.Engine [no key 0.00119s] ()\n",
      "2024-11-21 18:56:15,024 INFO sqlalchemy.engine.Engine INSERT INTO fiis (\"TICKER\", \"PRECO\", \"ULTDIV\", \"DY\", \"VPC\", \"PVP\", \"LIQD\", \"CAIXA\", \"CAGRDIV\", \"CAGRVLR\", \"PATRIMONIO\", \"NCOTISTAS\", \"GESTAO\", \"NCOTA\") VALUES (?, ?, ?, ?, ?, ?, ?, ?, ?, ?, ?, ?, ?, ?)\n",
      "2024-11-21 18:56:15,025 INFO sqlalchemy.engine.Engine [generated in 0.01381s] [('ABCP11', 77.64, 0.7, 9.02, 106.92, 0.73, 56281.57, 1.83, 1.47, 8.44, 503496718.25, 15558.0, 'Passiva', 4709082.0), ('AFHI11', 93.61, 0.93, 12.22, 94.88, 0.99, 1116628.33, 4.69, -8.71, 0.06, 432224228.96, 42539.0, 'Ativa', 4555618.0), ('AIEC11', 42.5, 0.62, 20.42, 84.94, 0.5, 649174.57, 4.35, -1.13, -13.75, 409856001.38, 18874.0, 'Ativa', 4824987.0), ('AJFI11', 7.27, 0.07, 11.58, 12.25, 0.59, 469095.52, 5.4, None, None, 387514867.4, 13191.0, 'Ativa', 31625978.0), ('ALMI11', 575.0, 5.0, 2.48, 2172.28, 0.26, 23137.29, 4.28, None, -16.87, 241507669.88, 2092.0, 'Passiva', 111177.0), ('ALZC11', 91.24, 1.25, 9.05, 63.81, 1.43, 510096.33, 3.5, None, None, 118155565.38, 8102.0, None, 1851786.0), ('ALZM11', 6.93, 0.085, 15.21, 7.94, 0.87, 117240.48, 8.33, -4.82, -55.28, 120540353.6, 12138.0, 'Ativa', 15180540.0), ('ALZR11', 100.34, 0.775, 9.15, 105.35, 0.95, 1933653.62, 14.75, -13.15, 0.46, 1288080789.12, 154533.0, 'Ativa', 12226625.0)  ... displaying 10 of 573 total bound parameter sets ...  ('ZAVI11', 105.21, 1.15, 14.02, 131.26, 0.78, 127664.29, 5.93, None, None, 154014555.33, 3923.0, 'Ativa', 1173322.0), ('ZIFI11', 650.0, 3.304958, 0.0, 1773.56, 0.37, 1370.1, 0.1, None, -11.57, 84217703.27, 94.0, 'Ativa', 47485.0)]\n",
      "2024-11-21 18:56:15,031 INFO sqlalchemy.engine.Engine COMMIT\n"
     ]
    },
    {
     "data": {
      "text/html": [
       "<div>\n",
       "<style scoped>\n",
       "    .dataframe tbody tr th:only-of-type {\n",
       "        vertical-align: middle;\n",
       "    }\n",
       "\n",
       "    .dataframe tbody tr th {\n",
       "        vertical-align: top;\n",
       "    }\n",
       "\n",
       "    .dataframe thead th {\n",
       "        text-align: right;\n",
       "    }\n",
       "</style>\n",
       "<table border=\"1\" class=\"dataframe\">\n",
       "  <thead>\n",
       "    <tr style=\"text-align: right;\">\n",
       "      <th></th>\n",
       "      <th>TICKER</th>\n",
       "      <th>PRECO</th>\n",
       "      <th>ULTDIV</th>\n",
       "      <th>DY</th>\n",
       "      <th>VPC</th>\n",
       "      <th>PVP</th>\n",
       "      <th>LIQD</th>\n",
       "      <th>CAIXA</th>\n",
       "      <th>CAGRDIV</th>\n",
       "      <th>CAGRVLR</th>\n",
       "      <th>PATRIMONIO</th>\n",
       "      <th>NCOTISTAS</th>\n",
       "      <th>GESTAO</th>\n",
       "      <th>NCOTA</th>\n",
       "    </tr>\n",
       "  </thead>\n",
       "  <tbody>\n",
       "    <tr>\n",
       "      <th>0</th>\n",
       "      <td>ABCP11</td>\n",
       "      <td>77.64</td>\n",
       "      <td>0.70</td>\n",
       "      <td>9.02</td>\n",
       "      <td>106.92</td>\n",
       "      <td>0.73</td>\n",
       "      <td>56281.57</td>\n",
       "      <td>1.83</td>\n",
       "      <td>1.47</td>\n",
       "      <td>8.44</td>\n",
       "      <td>5.034967e+08</td>\n",
       "      <td>15558.0</td>\n",
       "      <td>Passiva</td>\n",
       "      <td>4709082.0</td>\n",
       "    </tr>\n",
       "    <tr>\n",
       "      <th>1</th>\n",
       "      <td>AFHI11</td>\n",
       "      <td>93.61</td>\n",
       "      <td>0.93</td>\n",
       "      <td>12.22</td>\n",
       "      <td>94.88</td>\n",
       "      <td>0.99</td>\n",
       "      <td>1116628.33</td>\n",
       "      <td>4.69</td>\n",
       "      <td>-8.71</td>\n",
       "      <td>0.06</td>\n",
       "      <td>4.322242e+08</td>\n",
       "      <td>42539.0</td>\n",
       "      <td>Ativa</td>\n",
       "      <td>4555618.0</td>\n",
       "    </tr>\n",
       "    <tr>\n",
       "      <th>2</th>\n",
       "      <td>AIEC11</td>\n",
       "      <td>42.50</td>\n",
       "      <td>0.62</td>\n",
       "      <td>20.42</td>\n",
       "      <td>84.94</td>\n",
       "      <td>0.50</td>\n",
       "      <td>649174.57</td>\n",
       "      <td>4.35</td>\n",
       "      <td>-1.13</td>\n",
       "      <td>-13.75</td>\n",
       "      <td>4.098560e+08</td>\n",
       "      <td>18874.0</td>\n",
       "      <td>Ativa</td>\n",
       "      <td>4824987.0</td>\n",
       "    </tr>\n",
       "    <tr>\n",
       "      <th>3</th>\n",
       "      <td>AJFI11</td>\n",
       "      <td>7.27</td>\n",
       "      <td>0.07</td>\n",
       "      <td>11.58</td>\n",
       "      <td>12.25</td>\n",
       "      <td>0.59</td>\n",
       "      <td>469095.52</td>\n",
       "      <td>5.40</td>\n",
       "      <td>NaN</td>\n",
       "      <td>NaN</td>\n",
       "      <td>3.875149e+08</td>\n",
       "      <td>13191.0</td>\n",
       "      <td>Ativa</td>\n",
       "      <td>31625978.0</td>\n",
       "    </tr>\n",
       "    <tr>\n",
       "      <th>4</th>\n",
       "      <td>ALMI11</td>\n",
       "      <td>575.00</td>\n",
       "      <td>5.00</td>\n",
       "      <td>2.48</td>\n",
       "      <td>2172.28</td>\n",
       "      <td>0.26</td>\n",
       "      <td>23137.29</td>\n",
       "      <td>4.28</td>\n",
       "      <td>NaN</td>\n",
       "      <td>-16.87</td>\n",
       "      <td>2.415077e+08</td>\n",
       "      <td>2092.0</td>\n",
       "      <td>Passiva</td>\n",
       "      <td>111177.0</td>\n",
       "    </tr>\n",
       "  </tbody>\n",
       "</table>\n",
       "</div>"
      ],
      "text/plain": [
       "   TICKER   PRECO  ULTDIV     DY      VPC   PVP        LIQD  CAIXA  CAGRDIV  \\\n",
       "0  ABCP11   77.64    0.70   9.02   106.92  0.73    56281.57   1.83     1.47   \n",
       "1  AFHI11   93.61    0.93  12.22    94.88  0.99  1116628.33   4.69    -8.71   \n",
       "2  AIEC11   42.50    0.62  20.42    84.94  0.50   649174.57   4.35    -1.13   \n",
       "3  AJFI11    7.27    0.07  11.58    12.25  0.59   469095.52   5.40      NaN   \n",
       "4  ALMI11  575.00    5.00   2.48  2172.28  0.26    23137.29   4.28      NaN   \n",
       "\n",
       "   CAGRVLR    PATRIMONIO  NCOTISTAS   GESTAO       NCOTA  \n",
       "0     8.44  5.034967e+08    15558.0  Passiva   4709082.0  \n",
       "1     0.06  4.322242e+08    42539.0    Ativa   4555618.0  \n",
       "2   -13.75  4.098560e+08    18874.0    Ativa   4824987.0  \n",
       "3      NaN  3.875149e+08    13191.0    Ativa  31625978.0  \n",
       "4   -16.87  2.415077e+08     2092.0  Passiva    111177.0  "
      ]
     },
     "execution_count": 28,
     "metadata": {},
     "output_type": "execute_result"
    }
   ],
   "source": [
    "engine = create_engine('sqlite:///../bases_tratadas/banco_fiis.db', echo=True)\n",
    "dfnovo.to_sql('fiis', con=engine, if_exists='replace', index=False)  \n",
    "dfnovo.to_csv('../bases_tratadas/fiis.csv', encoding='utf-8', sep=';', index=False)\n",
    "dfnovo.head()"
   ]
  },
  {
   "cell_type": "code",
   "execution_count": null,
   "metadata": {},
   "outputs": [],
   "source": [
    "listaifix = [ifixS]\n",
    "listacdi = [cdi]\n",
    "\n",
    "dicindex = {'ifix': listaifix, 'CDI': listacdi}\n",
    "dfindex = pd.DataFrame(dicindex)\n",
    "dfindex['ifix'] = dfindex['ifix'].str.replace(' pts', '').str.replace('.', '').str.replace(',', '.').astype(float)\n",
    "dfindex['CDI'] = dfindex['CDI'].str.replace(',', '.').str.replace('%', '').astype(float)\n"
   ]
  },
  {
   "cell_type": "code",
   "execution_count": 29,
   "metadata": {},
   "outputs": [
    {
     "name": "stdout",
     "output_type": "stream",
     "text": [
      "2024-11-21 18:57:58,516 INFO sqlalchemy.engine.Engine BEGIN (implicit)\n",
      "2024-11-21 18:57:58,518 INFO sqlalchemy.engine.Engine PRAGMA main.table_info(\"indices\")\n",
      "2024-11-21 18:57:58,520 INFO sqlalchemy.engine.Engine [raw sql] ()\n",
      "2024-11-21 18:57:58,523 INFO sqlalchemy.engine.Engine PRAGMA temp.table_info(\"indices\")\n",
      "2024-11-21 18:57:58,525 INFO sqlalchemy.engine.Engine [raw sql] ()\n",
      "2024-11-21 18:57:58,528 INFO sqlalchemy.engine.Engine \n",
      "CREATE TABLE indices (\n",
      "\tifix FLOAT, \n",
      "\t\"CDI\" FLOAT\n",
      ")\n",
      "\n",
      "\n",
      "2024-11-21 18:57:58,530 INFO sqlalchemy.engine.Engine [no key 0.00152s] ()\n",
      "2024-11-21 18:57:58,542 INFO sqlalchemy.engine.Engine INSERT INTO indices (ifix, \"CDI\") VALUES (?, ?)\n",
      "2024-11-21 18:57:58,543 INFO sqlalchemy.engine.Engine [generated in 0.00159s] (3166.0, 10.971)\n",
      "2024-11-21 18:57:58,546 INFO sqlalchemy.engine.Engine COMMIT\n"
     ]
    }
   ],
   "source": [
    "dfindex.to_sql('indices', con=engine, if_exists='replace', index=False)\n",
    "dfindex.to_csv('../bases_tratadas/indice.csv', sep=';', index=False)\n"
   ]
  }
 ],
 "metadata": {
  "kernelspec": {
   "display_name": "Python 3",
   "language": "python",
   "name": "python3"
  },
  "language_info": {
   "codemirror_mode": {
    "name": "ipython",
    "version": 3
   },
   "file_extension": ".py",
   "mimetype": "text/x-python",
   "name": "python",
   "nbconvert_exporter": "python",
   "pygments_lexer": "ipython3",
   "version": "3.11.9"
  }
 },
 "nbformat": 4,
 "nbformat_minor": 2
}
